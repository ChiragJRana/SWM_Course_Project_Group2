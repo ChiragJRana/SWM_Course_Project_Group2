{
 "cells": [
  {
   "cell_type": "code",
   "execution_count": 2,
   "metadata": {},
   "outputs": [],
   "source": [
    "import pandas as pd\n",
    "import numpy as np\n",
    "import pickle\n",
    "import argparse"
   ]
  },
  {
   "cell_type": "code",
   "execution_count": 3,
   "metadata": {},
   "outputs": [],
   "source": [
    "# Load the trained model\n",
    "model_file = 'trained_model.pkl'\n",
    "with open(model_file, 'rb') as file:\n",
    "    model = pickle.load(file)"
   ]
  },
  {
   "cell_type": "code",
   "execution_count": 4,
   "metadata": {},
   "outputs": [],
   "source": [
    "# Load the movie data\n",
    "movie_data = pd.read_csv('dataset/movie_data.csv')\n",
    "movie_data = movie_data.dropna()\n",
    "movie_data['user_id'] = movie_data['user_id'].astype('category').cat.codes.values\n",
    "movie_data['movie_id'] = movie_data['movie_id'].astype('category').cat.codes.values"
   ]
  },
  {
   "cell_type": "code",
   "execution_count": 6,
   "metadata": {},
   "outputs": [],
   "source": [
    "user_id = int(input(\"Enter user ID: \"))"
   ]
  },
  {
   "cell_type": "code",
   "execution_count": 8,
   "metadata": {},
   "outputs": [],
   "source": [
    "# Get the movies not rated by the user\n",
    "user_rated_movies = movie_data[movie_data['user_id'] == user_id]['movie_id']\n",
    "all_movies = np.arange(len(movie_data.movie_id.unique()))\n",
    "movies_to_recommend = np.setdiff1d(all_movies, user_rated_movies)\n",
    "\n",
    "\n",
    "user_ids = np.full(len(movies_to_recommend), user_id)\n",
    "recommendation_data = pd.DataFrame({'user_id': user_ids, 'movie_id': movies_to_recommend})"
   ]
  },
  {
   "cell_type": "code",
   "execution_count": 9,
   "metadata": {},
   "outputs": [
    {
     "name": "stdout",
     "output_type": "stream",
     "text": [
      "531/531 [==============================] - 1s 2ms/step\n"
     ]
    }
   ],
   "source": [
    "# Get the predicted ratings for the movies to recommend\n",
    "X_test = [recommendation_data.user_id, recommendation_data.movie_id]\n",
    "y_pred = model.predict(X_test)\n",
    "\n",
    "recommendation_data['predicted_rating'] = y_pred\n",
    "\n",
    "recommendation_data = recommendation_data.sort_values(by=['predicted_rating'], ascending=False)"
   ]
  },
  {
   "cell_type": "code",
   "execution_count": 10,
   "metadata": {},
   "outputs": [
    {
     "name": "stdout",
     "output_type": "stream",
     "text": [
      "A Touch of Frost: Season 4\n",
      "To the Manor Born: The Complete Series\n",
      "Have Gun Will Travel: Season 2\n",
      "Six Feet Under: Season 4\n",
      "Dark Shadows: Vol. 12\n"
     ]
    }
   ],
   "source": [
    "# Get the top 5 recommendations\n",
    "top_recommendations = recommendation_data.head(5)\n",
    "\n",
    "for movie_id in top_recommendations.movie_id:\n",
    "    movie_title = movie_data[movie_data['movie_id'] == movie_id]['movie_title'].iloc[0]\n",
    "    print(movie_title)\n"
   ]
  }
 ],
 "metadata": {
  "kernelspec": {
   "display_name": "Python 3",
   "language": "python",
   "name": "python3"
  },
  "language_info": {
   "codemirror_mode": {
    "name": "ipython",
    "version": 3
   },
   "file_extension": ".py",
   "mimetype": "text/x-python",
   "name": "python",
   "nbconvert_exporter": "python",
   "pygments_lexer": "ipython3",
   "version": "3.8.0"
  },
  "orig_nbformat": 4
 },
 "nbformat": 4,
 "nbformat_minor": 2
}
